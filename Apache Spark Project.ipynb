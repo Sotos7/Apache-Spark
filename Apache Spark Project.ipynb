{
 "cells": [
  {
   "cell_type": "markdown",
   "metadata": {},
   "source": [
    "# Machine Learning Methods with Apache Spark"
   ]
  },
  {
   "cell_type": "markdown",
   "metadata": {},
   "source": [
    "In this notebook we’ll analyze a real-world dataset and apply machine learning on it using Apache Spark.\n",
    "\n",
    "Let’s start by downloading the dataset and creating a dataframe. This dataset can be found on DAX, the IBM Data Asset Exchange and can be downloaded for free."
   ]
  },
  {
   "cell_type": "markdown",
   "metadata": {},
   "source": [
    "https://developer.ibm.com/exchanges/data/all/jfk-weather-data/"
   ]
  },
  {
   "cell_type": "markdown",
   "metadata": {},
   "source": [
    "## Import data and libraries"
   ]
  },
  {
   "cell_type": "code",
   "execution_count": 1,
   "metadata": {
    "scrolled": true
   },
   "outputs": [
    {
     "data": {
      "text/html": [
       "\n",
       "        <div>\n",
       "            <p><b>SparkContext</b></p>\n",
       "\n",
       "            <p><a href=\"http://Coursaros-pc:4040\">Spark UI</a></p>\n",
       "\n",
       "            <dl>\n",
       "              <dt>Version</dt>\n",
       "                <dd><code>v2.4.5</code></dd>\n",
       "              <dt>Master</dt>\n",
       "                <dd><code>local[4]</code></dd>\n",
       "              <dt>AppName</dt>\n",
       "                <dd><code>S_AppName</code></dd>\n",
       "            </dl>\n",
       "        </div>\n",
       "        "
      ],
      "text/plain": [
       "<SparkContext master=local[4] appName=S_AppName>"
      ]
     },
     "execution_count": 1,
     "metadata": {},
     "output_type": "execute_result"
    }
   ],
   "source": [
    "import findspark\n",
    "findspark.init()\n",
    "findspark.find()\n",
    "import pyspark\n",
    "from pyspark import SparkConf\n",
    "from pyspark import SparkContext\n",
    "## local[K] : Run Spark locally with K worker threads (ideally, set this to the number of cores on your machine. ##\n",
    "conf = pyspark.SparkConf().setAppName('S_AppName').setMaster('local[4]')\n",
    "conf.set('spark.driver.cores',4)\n",
    "conf.get('spark.driver.cores','None')\n",
    "sc = pyspark.SparkContext(conf=conf)\n",
    "sc"
   ]
  },
  {
   "cell_type": "code",
   "execution_count": 2,
   "metadata": {},
   "outputs": [],
   "source": [
    "spark = pyspark.sql.SparkSession(sc)"
   ]
  },
  {
   "cell_type": "code",
   "execution_count": 3,
   "metadata": {},
   "outputs": [],
   "source": [
    "df = spark.read.option(\"header\", \"true\").option(\"inferSchema\",\"true\")\\\n",
    ".csv('C:/Users/Sotiris/Documents/Coursera/IBM/IBM AI Engineering Professional Certificate/2. Scalable Machine Learning on Big Data using Apache Spark/noaa-weather-data-jfk-airport/jfk_weather.csv')"
   ]
  },
  {
   "cell_type": "code",
   "execution_count": 4,
   "metadata": {},
   "outputs": [
    {
     "name": "stdout",
     "output_type": "stream",
     "text": [
      "+----------+--------------------+---------+--------+---------+----------------+----------+--------------------+----------------+-----------------------+------------------+------------------+------------------+------------------+-------------------+-------------------+----------------------+---------------+-------------------+-------------------+---------------------+----------------------+--------------------+----------------------+------------+----------------------+-----------------------+-----------------------+-----------------------+------------------------------+----------------------------+------------------------+-----------------------+----------------------+----------------------+------------+-----------+------------+-----------+-------------+--------------+---------------------------+----------------------------+---------------------+------------------+-----------------+-----------------------+---------------------------+------------------+------------------+---------------+----------------+-------------------+------------------+---------------------------+---------------------------+----------------------+-----------------------+-----------------------+--------------------+--------------------------------+--------------------------------+--------------------------------+---------------------------+------------------------+---------------------+-------------------------+-----------------------+---------------------------+------------------------+----------------------------+-----------------------+-----------------------+-----------------------+----------------------+--------------------------+--------------------------+----------------------+-------------------------------+------------------------------+------------------------------+-------------------------------+------------------------------+------------------------------+-----------------------------+-----------------------------+------------------------------+------------------------------+---------------------------------+---------------------------------+\n",
      "|   STATION|        STATION_NAME|ELEVATION|LATITUDE|LONGITUDE|            DATE|REPORTTPYE| HOURLYSKYCONDITIONS|HOURLYVISIBILITY|HOURLYPRSENTWEATHERTYPE|HOURLYDRYBULBTEMPF|HOURLYDRYBULBTEMPC|HOURLYWETBULBTEMPF|HOURLYWETBULBTEMPC|HOURLYDewPointTempF|HOURLYDewPointTempC|HOURLYRelativeHumidity|HOURLYWindSpeed|HOURLYWindDirection|HOURLYWindGustSpeed|HOURLYStationPressure|HOURLYPressureTendency|HOURLYPressureChange|HOURLYSeaLevelPressure|HOURLYPrecip|HOURLYAltimeterSetting|DAILYMaximumDryBulbTemp|DAILYMinimumDryBulbTemp|DAILYAverageDryBulbTemp|DAILYDeptFromNormalAverageTemp|DAILYAverageRelativeHumidity|DAILYAverageDewPointTemp|DAILYAverageWetBulbTemp|DAILYHeatingDegreeDays|DAILYCoolingDegreeDays|DAILYSunrise|DAILYSunset|DAILYWeather|DAILYPrecip|DAILYSnowfall|DAILYSnowDepth|DAILYAverageStationPressure|DAILYAverageSeaLevelPressure|DAILYAverageWindSpeed|DAILYPeakWindSpeed|PeakWindDirection|DAILYSustainedWindSpeed|DAILYSustainedWindDirection|MonthlyMaximumTemp|MonthlyMinimumTemp|MonthlyMeanTemp|MonthlyAverageRH|MonthlyDewpointTemp|MonthlyWetBulbTemp|MonthlyAvgHeatingDegreeDays|MonthlyAvgCoolingDegreeDays|MonthlyStationPressure|MonthlySeaLevelPressure|MonthlyAverageWindSpeed|MonthlyTotalSnowfall|MonthlyDeptFromNormalMaximumTemp|MonthlyDeptFromNormalMinimumTemp|MonthlyDeptFromNormalAverageTemp|MonthlyDeptFromNormalPrecip|MonthlyTotalLiquidPrecip|MonthlyGreatestPrecip|MonthlyGreatestPrecipDate|MonthlyGreatestSnowfall|MonthlyGreatestSnowfallDate|MonthlyGreatestSnowDepth|MonthlyGreatestSnowDepthDate|MonthlyDaysWithGT90Temp|MonthlyDaysWithLT32Temp|MonthlyDaysWithGT32Temp|MonthlyDaysWithLT0Temp|MonthlyDaysWithGT001Precip|MonthlyDaysWithGT010Precip|MonthlyDaysWithGT1Snow|MonthlyMaxSeaLevelPressureValue|MonthlyMaxSeaLevelPressureDate|MonthlyMaxSeaLevelPressureTime|MonthlyMinSeaLevelPressureValue|MonthlyMinSeaLevelPressureDate|MonthlyMinSeaLevelPressureTime|MonthlyTotalHeatingDegreeDays|MonthlyTotalCoolingDegreeDays|MonthlyDeptFromNormalHeatingDD|MonthlyDeptFromNormalCoolingDD|MonthlyTotalSeasonToDateHeatingDD|MonthlyTotalSeasonToDateCoolingDD|\n",
      "+----------+--------------------+---------+--------+---------+----------------+----------+--------------------+----------------+-----------------------+------------------+------------------+------------------+------------------+-------------------+-------------------+----------------------+---------------+-------------------+-------------------+---------------------+----------------------+--------------------+----------------------+------------+----------------------+-----------------------+-----------------------+-----------------------+------------------------------+----------------------------+------------------------+-----------------------+----------------------+----------------------+------------+-----------+------------+-----------+-------------+--------------+---------------------------+----------------------------+---------------------+------------------+-----------------+-----------------------+---------------------------+------------------+------------------+---------------+----------------+-------------------+------------------+---------------------------+---------------------------+----------------------+-----------------------+-----------------------+--------------------+--------------------------------+--------------------------------+--------------------------------+---------------------------+------------------------+---------------------+-------------------------+-----------------------+---------------------------+------------------------+----------------------------+-----------------------+-----------------------+-----------------------+----------------------+--------------------------+--------------------------+----------------------+-------------------------------+------------------------------+------------------------------+-------------------------------+------------------------------+------------------------------+-----------------------------+-----------------------------+------------------------------+------------------------------+---------------------------------+---------------------------------+\n",
      "|WBAN:94789|JFK INTERNATIONAL...|      3.4| 40.6386| -73.7622|2010-01-01 00:51|     FM-15|FEW:02 7 SCT:04 1...|            6.00|   -RA:02 PL:06 BR:1...|                33|               0.6|                32|               0.1|                 31|               -0.6|                    92|              0|                000|               null|                29.97|                     8|                null|                 29.99|        0.01|                 29.99|                   null|                   null|                   null|                          null|                        null|                    null|                   null|                  null|                  null|         719|       1639|        null|       null|         null|          null|                       null|                        null|                 null|              null|             null|                   null|                       null|              null|              null|           null|            null|               null|              null|                       null|                       null|                  null|                   null|                   null|                null|                            null|                            null|                            null|                       null|                    null|                 null|                     null|                   null|                       null|                    null|                        null|                   null|                   null|                   null|                  null|                      null|                      null|                  null|                           null|                         -9999|                         -9999|                           null|                         -9999|                         -9999|                         null|                         null|                          null|                          null|                             null|                             null|\n",
      "|WBAN:94789|JFK INTERNATIONAL...|      3.4| 40.6386| -73.7622|2010-01-01 01:00|     FM-12|                null|            5.59|                ||PL:79|                33|               0.6|                32|               0.1|                 31|               -0.6|                    92|              0|                000|               null|                29.96|                     8|               +0.05|                 29.99|        null|                  null|                     34|                     30|                     32|                          -1.7|                        null|                    null|                   null|                    33|                     0|         719|       1639|        null|       null|         null|          null|                       null|                        null|                 null|              null|             null|                   null|                       null|              null|              null|           null|            null|               null|              null|                       null|                       null|                  null|                   null|                   null|                null|                            null|                            null|                            null|                       null|                    null|                 null|                     null|                   null|                       null|                    null|                        null|                   null|                   null|                   null|                  null|                      null|                      null|                  null|                           null|                         -9999|                         -9999|                           null|                         -9999|                         -9999|                         null|                         null|                          null|                          null|                             null|                             null|\n",
      "|WBAN:94789|JFK INTERNATIONAL...|      3.4| 40.6386| -73.7622|2010-01-01 01:51|     FM-15|FEW:02 6 SCT:04 1...|            6.00|   -RA:02 PL:06 BR:1...|                33|               0.6|                33|               0.3|                 32|                0.0|                    96|              0|                000|               null|                29.97|                  null|                null|                 29.99|        0.02|                 29.99|                   null|                   null|                   null|                          null|                        null|                    null|                   null|                  null|                  null|         719|       1639|        null|       null|         null|          null|                       null|                        null|                 null|              null|             null|                   null|                       null|              null|              null|           null|            null|               null|              null|                       null|                       null|                  null|                   null|                   null|                null|                            null|                            null|                            null|                       null|                    null|                 null|                     null|                   null|                       null|                    null|                        null|                   null|                   null|                   null|                  null|                      null|                      null|                  null|                           null|                         -9999|                         -9999|                           null|                         -9999|                         -9999|                         null|                         null|                          null|                          null|                             null|                             null|\n",
      "|WBAN:94789|JFK INTERNATIONAL...|      3.4| 40.6386| -73.7622|2010-01-01 02:03|     FM-16|FEW:02 6 SCT:04 1...|            6.00|   -RA:02 BR:1 |RA:6...|                34|               1.0|                33|               0.7|                 32|                0.0|                    93|              0|                000|               null|                29.97|                  null|                null|                  null|           T|                 29.99|                   null|                   null|                   null|                          null|                        null|                    null|                   null|                  null|                  null|         719|       1639|        null|       null|         null|          null|                       null|                        null|                 null|              null|             null|                   null|                       null|              null|              null|           null|            null|               null|              null|                       null|                       null|                  null|                   null|                   null|                null|                            null|                            null|                            null|                       null|                    null|                 null|                     null|                   null|                       null|                    null|                        null|                   null|                   null|                   null|                  null|                      null|                      null|                  null|                           null|                         -9999|                         -9999|                           null|                         -9999|                         -9999|                         null|                         null|                          null|                          null|                             null|                             null|\n",
      "|WBAN:94789|JFK INTERNATIONAL...|      3.4| 40.6386| -73.7622|2010-01-01 02:28|     FM-16|BKN:07 7 BKN:07 1...|            5.00|   -RA:02 BR:1 |RA:6...|                34|               1.0|                33|               0.7|                 32|                0.0|                    93|              0|                000|               null|                29.97|                  null|                null|                  null|           T|                 29.99|                   null|                   null|                   null|                          null|                        null|                    null|                   null|                  null|                  null|         719|       1639|        null|       null|         null|          null|                       null|                        null|                 null|              null|             null|                   null|                       null|              null|              null|           null|            null|               null|              null|                       null|                       null|                  null|                   null|                   null|                null|                            null|                            null|                            null|                       null|                    null|                 null|                     null|                   null|                       null|                    null|                        null|                   null|                   null|                   null|                  null|                      null|                      null|                  null|                           null|                         -9999|                         -9999|                           null|                         -9999|                         -9999|                         null|                         null|                          null|                          null|                             null|                             null|\n",
      "|WBAN:94789|JFK INTERNATIONAL...|      3.4| 40.6386| -73.7622|2010-01-01 02:51|     FM-15|  BKN:07 7 OVC:08 15|            5.00|   -RA:02 BR:1 |RA:6...|                33|               0.6|                33|               0.3|                 32|                0.0|                    96|              0|                000|               null|                29.97|                  null|                null|                 29.99|           T|                 29.99|                   null|                   null|                   null|                          null|                        null|                    null|                   null|                  null|                  null|         719|       1639|        null|       null|         null|          null|                       null|                        null|                 null|              null|             null|                   null|                       null|              null|              null|           null|            null|               null|              null|                       null|                       null|                  null|                   null|                   null|                null|                            null|                            null|                            null|                       null|                    null|                 null|                     null|                   null|                       null|                    null|                        null|                   null|                   null|                   null|                  null|                      null|                      null|                  null|                           null|                         -9999|                         -9999|                           null|                         -9999|                         -9999|                         null|                         null|                          null|                          null|                             null|                             null|\n",
      "|WBAN:94789|JFK INTERNATIONAL...|      3.4| 40.6386| -73.7622|2010-01-01 03:51|     FM-15|  FEW:02 5 OVC:08 12|            5.00|   -RA:02 BR:1 |RA:6...|                33|               0.6|                33|               0.3|                 32|                0.0|                    96|              0|                000|               null|                29.95|                     8|                null|                 29.97|           T|                 29.97|                   null|                   null|                   null|                          null|                        null|                    null|                   null|                  null|                  null|         719|       1639|        null|       null|         null|          null|                       null|                        null|                 null|              null|             null|                   null|                       null|              null|              null|           null|            null|               null|              null|                       null|                       null|                  null|                   null|                   null|                null|                            null|                            null|                            null|                       null|                    null|                 null|                     null|                   null|                       null|                    null|                        null|                   null|                   null|                   null|                  null|                      null|                      null|                  null|                           null|                         -9999|                         -9999|                           null|                         -9999|                         -9999|                         null|                         null|                          null|                          null|                             null|                             null|\n",
      "|WBAN:94789|JFK INTERNATIONAL...|      3.4| 40.6386| -73.7622|2010-01-01 04:00|     FM-12|                null|            4.97|                ||RA:61|                33|               0.6|                33|               0.3|                 32|                0.0|                    96|              0|                000|               null|                29.94|                     8|               +0.03|                 29.97|        null|                  null|                   null|                   null|                   null|                          null|                        null|                    null|                   null|                  null|                  null|         719|       1639|        null|       null|         null|          null|                       null|                        null|                 null|              null|             null|                   null|                       null|              null|              null|           null|            null|               null|              null|                       null|                       null|                  null|                   null|                   null|                null|                            null|                            null|                            null|                       null|                    null|                 null|                     null|                   null|                       null|                    null|                        null|                   null|                   null|                   null|                  null|                      null|                      null|                  null|                           null|                         -9999|                         -9999|                           null|                         -9999|                         -9999|                         null|                         null|                          null|                          null|                             null|                             null|\n",
      "|WBAN:94789|JFK INTERNATIONAL...|      3.4| 40.6386| -73.7622|2010-01-01 04:51|     FM-15| BKN:07 11 OVC:08 35|            5.00|   -RA:02 BR:1 |RA:6...|                33|               0.6|                32|               0.1|                 31|               -0.6|                    92|              0|                000|               null|                29.93|                  null|                null|                 29.96|           T|                 29.95|                   null|                   null|                   null|                          null|                        null|                    null|                   null|                  null|                  null|         719|       1639|        null|       null|         null|          null|                       null|                        null|                 null|              null|             null|                   null|                       null|              null|              null|           null|            null|               null|              null|                       null|                       null|                  null|                   null|                   null|                null|                            null|                            null|                            null|                       null|                    null|                 null|                     null|                   null|                       null|                    null|                        null|                   null|                   null|                   null|                  null|                      null|                      null|                  null|                           null|                         -9999|                         -9999|                           null|                         -9999|                         -9999|                         null|                         null|                          null|                          null|                             null|                             null|\n",
      "|WBAN:94789|JFK INTERNATIONAL...|      3.4| 40.6386| -73.7622|2010-01-01 05:49|     FM-16|            BKN:07 9|            5.00|                BR:1 |||                34|               1.0|                32|               0.3|                 30|               -1.0|                    87|              0|                000|               null|                29.95|                  null|                null|                  null|        null|                 29.97|                   null|                   null|                   null|                          null|                        null|                    null|                   null|                  null|                  null|         719|       1639|        null|       null|         null|          null|                       null|                        null|                 null|              null|             null|                   null|                       null|              null|              null|           null|            null|               null|              null|                       null|                       null|                  null|                   null|                   null|                null|                            null|                            null|                            null|                       null|                    null|                 null|                     null|                   null|                       null|                    null|                        null|                   null|                   null|                   null|                  null|                      null|                      null|                  null|                           null|                         -9999|                         -9999|                           null|                         -9999|                         -9999|                         null|                         null|                          null|                          null|                             null|                             null|\n",
      "|WBAN:94789|JFK INTERNATIONAL...|      3.4| 40.6386| -73.7622|2010-01-01 05:51|     FM-15|            OVC:08 9|            5.00|                BR:1 |||                33|               0.6|                32|               0.1|                 31|               -0.6|                    92|              0|                000|               null|                29.95|                  null|                null|                 29.97|           T|                 29.97|                   null|                   null|                   null|                          null|                        null|                    null|                   null|                  null|                  null|         719|       1639|        null|       null|         null|          null|                       null|                        null|                 null|              null|             null|                   null|                       null|              null|              null|           null|            null|               null|              null|                       null|                       null|                  null|                   null|                   null|                null|                            null|                            null|                            null|                       null|                    null|                 null|                     null|                   null|                       null|                    null|                        null|                   null|                   null|                   null|                  null|                      null|                      null|                  null|                           null|                         -9999|                         -9999|                           null|                         -9999|                         -9999|                         null|                         null|                          null|                          null|                             null|                             null|\n",
      "|WBAN:94789|JFK INTERNATIONAL...|      3.4| 40.6386| -73.7622|2010-01-01 06:51|     FM-15|            OVC:08 7|            4.00|                BR:1 |||                33|               0.6|                33|               0.3|                 32|                0.0|                    96|              0|                000|               null|                29.94|                     6|                null|                 29.96|        0.00|                 29.96|                   null|                   null|                   null|                          null|                        null|                    null|                   null|                  null|                  null|         719|       1639|        null|       0.29|         null|          null|                       null|                        null|                 null|              null|             null|                   null|                       null|              null|              null|           null|            null|               null|              null|                       null|                       null|                  null|                   null|                   null|                null|                            null|                            null|                            null|                       null|                    null|                 null|                     null|                   null|                       null|                    null|                        null|                   null|                   null|                   null|                  null|                      null|                      null|                  null|                           null|                         -9999|                         -9999|                           null|                         -9999|                         -9999|                         null|                         null|                          null|                          null|                             null|                             null|\n",
      "|WBAN:94789|JFK INTERNATIONAL...|      3.4| 40.6386| -73.7622|2010-01-01 07:00|     FM-12|                null|            3.73|                   null|                33|               0.6|                33|               0.3|                 32|                0.0|                    96|              0|                000|               null|                29.93|                     6|               +0.01|                 29.96|        null|                  null|                     35|                   null|                   null|                          null|                        null|                    null|                   null|                  null|                  null|         719|       1639|        null|       0.29|         null|          null|                       null|                        null|                 null|              null|             null|                   null|                       null|              null|              null|           null|            null|               null|              null|                       null|                       null|                  null|                   null|                   null|                null|                            null|                            null|                            null|                       null|                    null|                 null|                     null|                   null|                       null|                    null|                        null|                   null|                   null|                   null|                  null|                      null|                      null|                  null|                           null|                         -9999|                         -9999|                           null|                         -9999|                         -9999|                         null|                         null|                          null|                          null|                             null|                             null|\n",
      "|WBAN:94789|JFK INTERNATIONAL...|      3.4| 40.6386| -73.7622|2010-01-01 07:19|     FM-16|   BKN:07 5 OVC:08 9|            2.00|                BR:1 |||                34|               1.0|                33|               0.7|                 32|                0.0|                    93|              3|                220|               null|                29.93|                  null|                null|                  null|        null|                 29.95|                   null|                   null|                   null|                          null|                        null|                    null|                   null|                  null|                  null|         719|       1639|        null|       null|         null|          null|                       null|                        null|                 null|              null|             null|                   null|                       null|              null|              null|           null|            null|               null|              null|                       null|                       null|                  null|                   null|                   null|                null|                            null|                            null|                            null|                       null|                    null|                 null|                     null|                   null|                       null|                    null|                        null|                   null|                   null|                   null|                  null|                      null|                      null|                  null|                           null|                         -9999|                         -9999|                           null|                         -9999|                         -9999|                         null|                         null|                          null|                          null|                             null|                             null|\n",
      "|WBAN:94789|JFK INTERNATIONAL...|      3.4| 40.6386| -73.7622|2010-01-01 07:49|     FM-16|            OVC:08 5|            1.25|                BR:1 |||                34|               1.0|                33|               0.7|                 32|                0.0|                    93|              0|                000|               null|                29.93|                  null|                null|                  null|        null|                 29.95|                   null|                   null|                   null|                          null|                        null|                    null|                   null|                  null|                  null|         719|       1639|        null|       null|         null|          null|                       null|                        null|                 null|              null|             null|                   null|                       null|              null|              null|           null|            null|               null|              null|                       null|                       null|                  null|                   null|                   null|                null|                            null|                            null|                            null|                       null|                    null|                 null|                     null|                   null|                       null|                    null|                        null|                   null|                   null|                   null|                  null|                      null|                      null|                  null|                           null|                         -9999|                         -9999|                           null|                         -9999|                         -9999|                         null|                         null|                          null|                          null|                             null|                             null|\n",
      "|WBAN:94789|JFK INTERNATIONAL...|      3.4| 40.6386| -73.7622|2010-01-01 07:51|     FM-15|            OVC:08 5|            1.25|                BR:1 |||                33|               0.6|                33|               0.3|                 32|                0.0|                    96|              3|                270|               null|                29.93|                  null|                null|                 29.95|        0.00|                 29.95|                   null|                   null|                   null|                          null|                        null|                    null|                   null|                  null|                  null|         719|       1639|        null|       null|         null|          null|                       null|                        null|                 null|              null|             null|                   null|                       null|              null|              null|           null|            null|               null|              null|                       null|                       null|                  null|                   null|                   null|                null|                            null|                            null|                            null|                       null|                    null|                 null|                     null|                   null|                       null|                    null|                        null|                   null|                   null|                   null|                  null|                      null|                      null|                  null|                           null|                         -9999|                         -9999|                           null|                         -9999|                         -9999|                         null|                         null|                          null|                          null|                             null|                             null|\n",
      "|WBAN:94789|JFK INTERNATIONAL...|      3.4| 40.6386| -73.7622|2010-01-01 08:38|     FM-16|           OVC:08 18|            2.00|                BR:1 |||                34|               1.0|                33|               0.7|                 32|                0.0|                    93|              5|                260|               null|                29.92|                  null|                null|                  null|        null|                 29.94|                   null|                   null|                   null|                          null|                        null|                    null|                   null|                  null|                  null|         719|       1639|        null|       null|         null|          null|                       null|                        null|                 null|              null|             null|                   null|                       null|              null|              null|           null|            null|               null|              null|                       null|                       null|                  null|                   null|                   null|                null|                            null|                            null|                            null|                       null|                    null|                 null|                     null|                   null|                       null|                    null|                        null|                   null|                   null|                   null|                  null|                      null|                      null|                  null|                           null|                         -9999|                         -9999|                           null|                         -9999|                         -9999|                         null|                         null|                          null|                          null|                             null|                             null|\n",
      "|WBAN:94789|JFK INTERNATIONAL...|      3.4| 40.6386| -73.7622|2010-01-01 08:49|     FM-16| SCT:04 18 BKN:07 75|            2.50|                BR:1 |||                34|               1.0|                33|               0.7|                 32|                0.0|                    93|              3|                250|               null|                29.92|                  null|                null|                  null|        null|                 29.94|                   null|                   null|                   null|                          null|                        null|                    null|                   null|                  null|                  null|         719|       1639|        null|       null|         null|          null|                       null|                        null|                 null|              null|             null|                   null|                       null|              null|              null|           null|            null|               null|              null|                       null|                       null|                  null|                   null|                   null|                null|                            null|                            null|                            null|                       null|                    null|                 null|                     null|                   null|                       null|                    null|                        null|                   null|                   null|                   null|                  null|                      null|                      null|                  null|                           null|                         -9999|                         -9999|                           null|                         -9999|                         -9999|                         null|                         null|                          null|                          null|                             null|                             null|\n",
      "|WBAN:94789|JFK INTERNATIONAL...|      3.4| 40.6386| -73.7622|2010-01-01 08:51|     FM-15| SCT:04 18 BKN:07 75|            2.50|                BR:1 |||                34|               1.1|                33|               0.7|                 32|                0.0|                    92|              3|                250|               null|                29.92|                  null|                null|                 29.94|        0.00|                 29.94|                   null|                   null|                   null|                          null|                        null|                    null|                   null|                  null|                  null|         719|       1639|        null|       null|         null|          null|                       null|                        null|                 null|              null|             null|                   null|                       null|              null|              null|           null|            null|               null|              null|                       null|                       null|                  null|                   null|                   null|                null|                            null|                            null|                            null|                       null|                    null|                 null|                     null|                   null|                       null|                    null|                        null|                   null|                   null|                   null|                  null|                      null|                      null|                  null|                           null|                         -9999|                         -9999|                           null|                         -9999|                         -9999|                         null|                         null|                          null|                          null|                             null|                             null|\n",
      "|WBAN:94789|JFK INTERNATIONAL...|      3.4| 40.6386| -73.7622|2010-01-01 09:51|     FM-15| SCT:04 11 OVC:08 75|            2.50|                BR:1 |||                35|               1.7|                34|               1.0|                 32|                0.0|                    89|              6|                250|               null|                29.91|                     6|                null|                 29.93|        0.00|                 29.93|                   null|                   null|                   null|                          null|                        null|                    null|                   null|                  null|                  null|         719|       1639|        null|       null|         null|          null|                       null|                        null|                 null|              null|             null|                   null|                       null|              null|              null|           null|            null|               null|              null|                       null|                       null|                  null|                   null|                   null|                null|                            null|                            null|                            null|                       null|                    null|                 null|                     null|                   null|                       null|                    null|                        null|                   null|                   null|                   null|                  null|                      null|                      null|                  null|                           null|                         -9999|                         -9999|                           null|                         -9999|                         -9999|                         null|                         null|                          null|                          null|                             null|                             null|\n",
      "+----------+--------------------+---------+--------+---------+----------------+----------+--------------------+----------------+-----------------------+------------------+------------------+------------------+------------------+-------------------+-------------------+----------------------+---------------+-------------------+-------------------+---------------------+----------------------+--------------------+----------------------+------------+----------------------+-----------------------+-----------------------+-----------------------+------------------------------+----------------------------+------------------------+-----------------------+----------------------+----------------------+------------+-----------+------------+-----------+-------------+--------------+---------------------------+----------------------------+---------------------+------------------+-----------------+-----------------------+---------------------------+------------------+------------------+---------------+----------------+-------------------+------------------+---------------------------+---------------------------+----------------------+-----------------------+-----------------------+--------------------+--------------------------------+--------------------------------+--------------------------------+---------------------------+------------------------+---------------------+-------------------------+-----------------------+---------------------------+------------------------+----------------------------+-----------------------+-----------------------+-----------------------+----------------------+--------------------------+--------------------------+----------------------+-------------------------------+------------------------------+------------------------------+-------------------------------+------------------------------+------------------------------+-----------------------------+-----------------------------+------------------------------+------------------------------+---------------------------------+---------------------------------+\n",
      "only showing top 20 rows\n",
      "\n"
     ]
    }
   ],
   "source": [
    "df.createOrReplaceTempView('df')\n",
    "df.show()"
   ]
  },
  {
   "cell_type": "code",
   "execution_count": 5,
   "metadata": {},
   "outputs": [],
   "source": [
    "import random\n",
    "random.seed(42)\n",
    "\n",
    "from pyspark.sql.functions import translate, col\n",
    "\n",
    "df_cleaned = df \\\n",
    "    .withColumn(\"HOURLYWindSpeed\", df.HOURLYWindSpeed.cast('double')) \\\n",
    "    .withColumn(\"HOURLYWindDirection\", df.HOURLYWindDirection.cast('double')) \\\n",
    "    .withColumn(\"HOURLYStationPressure\", translate(col(\"HOURLYStationPressure\"), \"s,\", \"\")) \\\n",
    "    .withColumn(\"HOURLYPrecip\", translate(col(\"HOURLYPrecip\"), \"s,\", \"\")) \\\n",
    "    .withColumn(\"HOURLYRelativeHumidity\", translate(col(\"HOURLYRelativeHumidity\"), \"*\", \"\")) \\\n",
    "    .withColumn(\"HOURLYDRYBULBTEMPC\", translate(col(\"HOURLYDRYBULBTEMPC\"), \"*\", \"\")) \\\n",
    "\n",
    "df_cleaned =   df_cleaned \\\n",
    "                    .withColumn(\"HOURLYStationPressure\", df_cleaned.HOURLYStationPressure.cast('double')) \\\n",
    "                    .withColumn(\"HOURLYPrecip\", df_cleaned.HOURLYPrecip.cast('double')) \\\n",
    "                    .withColumn(\"HOURLYRelativeHumidity\", df_cleaned.HOURLYRelativeHumidity.cast('double')) \\\n",
    "                    .withColumn(\"HOURLYDRYBULBTEMPC\", df_cleaned.HOURLYDRYBULBTEMPC.cast('double')) \\\n",
    "\n",
    "df_filtered = df_cleaned.filter(\"\"\"\n",
    "    HOURLYWindSpeed <> 0\n",
    "    and HOURLYWindDirection <> 0\n",
    "    and HOURLYStationPressure <> 0\n",
    "    and HOURLYPressureTendency <> 0\n",
    "    and HOURLYPressureTendency <> 0\n",
    "    and HOURLYPrecip <> 0\n",
    "    and HOURLYRelativeHumidity <> 0\n",
    "    and HOURLYDRYBULBTEMPC <> 0\n",
    "\"\"\")"
   ]
  },
  {
   "cell_type": "code",
   "execution_count": 6,
   "metadata": {
    "scrolled": true
   },
   "outputs": [
    {
     "data": {
      "text/plain": [
       "['STATION',\n",
       " 'STATION_NAME',\n",
       " 'ELEVATION',\n",
       " 'LATITUDE',\n",
       " 'LONGITUDE',\n",
       " 'DATE',\n",
       " 'REPORTTPYE',\n",
       " 'HOURLYSKYCONDITIONS',\n",
       " 'HOURLYVISIBILITY',\n",
       " 'HOURLYPRSENTWEATHERTYPE',\n",
       " 'HOURLYDRYBULBTEMPF',\n",
       " 'HOURLYDRYBULBTEMPC',\n",
       " 'HOURLYWETBULBTEMPF',\n",
       " 'HOURLYWETBULBTEMPC',\n",
       " 'HOURLYDewPointTempF',\n",
       " 'HOURLYDewPointTempC',\n",
       " 'HOURLYRelativeHumidity',\n",
       " 'HOURLYWindSpeed',\n",
       " 'HOURLYWindDirection',\n",
       " 'HOURLYWindGustSpeed',\n",
       " 'HOURLYStationPressure',\n",
       " 'HOURLYPressureTendency',\n",
       " 'HOURLYPressureChange',\n",
       " 'HOURLYSeaLevelPressure',\n",
       " 'HOURLYPrecip',\n",
       " 'HOURLYAltimeterSetting',\n",
       " 'DAILYMaximumDryBulbTemp',\n",
       " 'DAILYMinimumDryBulbTemp',\n",
       " 'DAILYAverageDryBulbTemp',\n",
       " 'DAILYDeptFromNormalAverageTemp',\n",
       " 'DAILYAverageRelativeHumidity',\n",
       " 'DAILYAverageDewPointTemp',\n",
       " 'DAILYAverageWetBulbTemp',\n",
       " 'DAILYHeatingDegreeDays',\n",
       " 'DAILYCoolingDegreeDays',\n",
       " 'DAILYSunrise',\n",
       " 'DAILYSunset',\n",
       " 'DAILYWeather',\n",
       " 'DAILYPrecip',\n",
       " 'DAILYSnowfall',\n",
       " 'DAILYSnowDepth',\n",
       " 'DAILYAverageStationPressure',\n",
       " 'DAILYAverageSeaLevelPressure',\n",
       " 'DAILYAverageWindSpeed',\n",
       " 'DAILYPeakWindSpeed',\n",
       " 'PeakWindDirection',\n",
       " 'DAILYSustainedWindSpeed',\n",
       " 'DAILYSustainedWindDirection',\n",
       " 'MonthlyMaximumTemp',\n",
       " 'MonthlyMinimumTemp',\n",
       " 'MonthlyMeanTemp',\n",
       " 'MonthlyAverageRH',\n",
       " 'MonthlyDewpointTemp',\n",
       " 'MonthlyWetBulbTemp',\n",
       " 'MonthlyAvgHeatingDegreeDays',\n",
       " 'MonthlyAvgCoolingDegreeDays',\n",
       " 'MonthlyStationPressure',\n",
       " 'MonthlySeaLevelPressure',\n",
       " 'MonthlyAverageWindSpeed',\n",
       " 'MonthlyTotalSnowfall',\n",
       " 'MonthlyDeptFromNormalMaximumTemp',\n",
       " 'MonthlyDeptFromNormalMinimumTemp',\n",
       " 'MonthlyDeptFromNormalAverageTemp',\n",
       " 'MonthlyDeptFromNormalPrecip',\n",
       " 'MonthlyTotalLiquidPrecip',\n",
       " 'MonthlyGreatestPrecip',\n",
       " 'MonthlyGreatestPrecipDate',\n",
       " 'MonthlyGreatestSnowfall',\n",
       " 'MonthlyGreatestSnowfallDate',\n",
       " 'MonthlyGreatestSnowDepth',\n",
       " 'MonthlyGreatestSnowDepthDate',\n",
       " 'MonthlyDaysWithGT90Temp',\n",
       " 'MonthlyDaysWithLT32Temp',\n",
       " 'MonthlyDaysWithGT32Temp',\n",
       " 'MonthlyDaysWithLT0Temp',\n",
       " 'MonthlyDaysWithGT001Precip',\n",
       " 'MonthlyDaysWithGT010Precip',\n",
       " 'MonthlyDaysWithGT1Snow',\n",
       " 'MonthlyMaxSeaLevelPressureValue',\n",
       " 'MonthlyMaxSeaLevelPressureDate',\n",
       " 'MonthlyMaxSeaLevelPressureTime',\n",
       " 'MonthlyMinSeaLevelPressureValue',\n",
       " 'MonthlyMinSeaLevelPressureDate',\n",
       " 'MonthlyMinSeaLevelPressureTime',\n",
       " 'MonthlyTotalHeatingDegreeDays',\n",
       " 'MonthlyTotalCoolingDegreeDays',\n",
       " 'MonthlyDeptFromNormalHeatingDD',\n",
       " 'MonthlyDeptFromNormalCoolingDD',\n",
       " 'MonthlyTotalSeasonToDateHeatingDD',\n",
       " 'MonthlyTotalSeasonToDateCoolingDD']"
      ]
     },
     "execution_count": 6,
     "metadata": {},
     "output_type": "execute_result"
    }
   ],
   "source": [
    "df_filtered.columns"
   ]
  },
  {
   "cell_type": "markdown",
   "metadata": {},
   "source": [
    "What is the correlation between HOURLYWindSpeed and HOURLYPressureTendency?"
   ]
  },
  {
   "cell_type": "code",
   "execution_count": 7,
   "metadata": {},
   "outputs": [
    {
     "data": {
      "text/plain": [
       "array([[ 1.        ,  0.06306013, -0.4204518 ,  0.06432947],\n",
       "       [ 0.06306013,  1.        , -0.19199348, -0.27956253],\n",
       "       [-0.4204518 , -0.19199348,  1.        ,  0.00581104],\n",
       "       [ 0.06432947, -0.27956253,  0.00581104,  1.        ]])"
      ]
     },
     "execution_count": 7,
     "metadata": {},
     "output_type": "execute_result"
    }
   ],
   "source": [
    "from pyspark.ml.feature import VectorAssembler\n",
    "vectorAssembler = VectorAssembler(inputCols=[\"HOURLYWindSpeed\",\"HOURLYWindDirection\",\"HOURLYStationPressure\",\"HOURLYPressureTendency\"],\n",
    "                                  outputCol=\"features\")\n",
    "df_pipeline = vectorAssembler.transform(df_filtered)\n",
    "from pyspark.ml.stat import Correlation\n",
    "Correlation.corr(df_pipeline,\"features\").head()[0].toArray()"
   ]
  },
  {
   "cell_type": "markdown",
   "metadata": {},
   "source": [
    "## Pipelines and Regression"
   ]
  },
  {
   "cell_type": "markdown",
   "metadata": {},
   "source": [
    "Let's try to predict \"HOURLYWindSpeed\" from \"HOURLYWindDirection\", \"ELEVATION\" and \"HOURLYStationPressure.\n",
    "\n",
    "Since this is supervised learning, let’s split our data into train (80%) and test (20%) set."
   ]
  },
  {
   "cell_type": "code",
   "execution_count": 8,
   "metadata": {},
   "outputs": [],
   "source": [
    "splits = df_filtered.randomSplit([0.8, 0.2])\n",
    "df_train = splits[0]\n",
    "df_test = splits[1]"
   ]
  },
  {
   "cell_type": "code",
   "execution_count": 9,
   "metadata": {},
   "outputs": [],
   "source": [
    "from pyspark.ml.feature import StringIndexer, VectorAssembler, Normalizer\n",
    "from pyspark.ml.linalg import Vectors\n",
    "from pyspark.ml import Pipeline\n",
    "\n",
    "vectorAssembler = VectorAssembler(inputCols=[\n",
    "                                    \"HOURLYWindDirection\",\n",
    "                                    \"ELEVATION\",\n",
    "                                    \"HOURLYStationPressure\"],\n",
    "                                  outputCol=\"features\")\n",
    "\n",
    "normalizer = Normalizer(inputCol=\"features\", outputCol=\"features_norm\", p=1.0)"
   ]
  },
  {
   "cell_type": "markdown",
   "metadata": {},
   "source": [
    "Now we define a function for evaluating our regression prediction performance. We’re using RMSE (Root Mean Squared Error) here, the smaller the better…"
   ]
  },
  {
   "cell_type": "code",
   "execution_count": 10,
   "metadata": {},
   "outputs": [],
   "source": [
    "from pyspark.ml.evaluation import RegressionEvaluator\n",
    "def regression_metrics(prediction):\n",
    "    evaluator = RegressionEvaluator(labelCol=\"HOURLYWindSpeed\", predictionCol=\"prediction\", metricName=\"rmse\")\n",
    "    rmse = evaluator.evaluate(prediction)\n",
    "    print(\"RMSE on test data = %g\" % rmse)"
   ]
  },
  {
   "cell_type": "code",
   "execution_count": 11,
   "metadata": {},
   "outputs": [
    {
     "name": "stdout",
     "output_type": "stream",
     "text": [
      "RMSE on test data = 6.18918\n"
     ]
    }
   ],
   "source": [
    "#Linear Regression\n",
    "\n",
    "from pyspark.ml.regression import LinearRegression\n",
    "\n",
    "lr = LinearRegression(labelCol=\"HOURLYWindSpeed\", featuresCol='features', maxIter=100, regParam=0.0, elasticNetParam=0.0)\n",
    "pipeline = Pipeline(stages=[vectorAssembler, normalizer,lr])\n",
    "model = pipeline.fit(df_train)\n",
    "prediction = model.transform(df_test)\n",
    "regression_metrics(prediction)"
   ]
  },
  {
   "cell_type": "code",
   "execution_count": 12,
   "metadata": {},
   "outputs": [
    {
     "name": "stdout",
     "output_type": "stream",
     "text": [
      "+---------------+-----------------+------------------+\n",
      "|HOURLYWindSpeed|         features|        prediction|\n",
      "+---------------+-----------------+------------------+\n",
      "|           20.0| [70.0,3.4,29.84]| 13.83868514154625|\n",
      "|           23.0| [40.0,3.4,29.58]| 16.51819466174169|\n",
      "|           32.0|[270.0,3.4,28.91]|23.042196952840072|\n",
      "|           26.0|[260.0,3.4,28.96]|22.546451582496616|\n",
      "|           18.0| [80.0,3.4,30.08]|11.387220187364221|\n",
      "|           23.0| [70.0,3.4,29.99]| 12.31426600817099|\n",
      "|           13.0| [20.0,3.4,29.47]| 17.66089070778014|\n",
      "|           20.0|[140.0,3.4,29.68]| 15.37797183167504|\n",
      "|            9.0| [180.0,3.4,29.6]|  16.1414180063486|\n",
      "|            9.0|[200.0,3.4,29.64]|15.710117555885233|\n",
      "|           14.0| [90.0,3.4,29.66]|15.643199420033284|\n",
      "|           10.0|[120.0,3.4,29.32]|19.061366433339003|\n",
      "|            7.0|[310.0,3.4,29.73]| 14.65912832726201|\n",
      "|           13.0|[160.0,3.4,29.84]|13.727136074511463|\n",
      "|           14.0|[190.0,3.4,29.84]|13.689953052166572|\n",
      "|           10.0|[280.0,3.4,29.86]| 13.37514810068177|\n",
      "|           10.0| [10.0,3.4,29.84]|13.913051186236089|\n",
      "|           14.0|[250.0,3.4,30.03]|11.684656105201327|\n",
      "|           13.0|[110.0,3.4,29.85]|13.687479836194655|\n",
      "|           23.0| [150.0,3.4,29.8]|14.146042184193163|\n",
      "+---------------+-----------------+------------------+\n",
      "only showing top 20 rows\n",
      "\n"
     ]
    }
   ],
   "source": [
    "prediction[['HOURLYWindSpeed','features','prediction']].show()"
   ]
  },
  {
   "cell_type": "code",
   "execution_count": 13,
   "metadata": {},
   "outputs": [
    {
     "name": "stdout",
     "output_type": "stream",
     "text": [
      "RMSE on test data = 6.55505\n"
     ]
    }
   ],
   "source": [
    "#Linear Regression normalized\n",
    "\n",
    "from pyspark.ml.regression import LinearRegression\n",
    "\n",
    "lr = LinearRegression(labelCol=\"HOURLYWindSpeed\", featuresCol='features_norm', maxIter=100, regParam=0.0, elasticNetParam=0.0)\n",
    "pipeline = Pipeline(stages=[vectorAssembler, normalizer,lr])\n",
    "model = pipeline.fit(df_train)\n",
    "prediction = model.transform(df_test)\n",
    "regression_metrics(prediction)"
   ]
  },
  {
   "cell_type": "code",
   "execution_count": 14,
   "metadata": {},
   "outputs": [
    {
     "name": "stdout",
     "output_type": "stream",
     "text": [
      "RMSE on test data = 7.20118\n"
     ]
    }
   ],
   "source": [
    "#GBTRegressor\n",
    "\n",
    "from pyspark.ml.regression import GBTRegressor\n",
    "gbt = GBTRegressor(labelCol=\"HOURLYWindSpeed\", maxIter=100)\n",
    "pipeline = Pipeline(stages=[vectorAssembler, normalizer,gbt])\n",
    "model = pipeline.fit(df_train)\n",
    "prediction = model.transform(df_test)\n",
    "regression_metrics(prediction)"
   ]
  },
  {
   "cell_type": "markdown",
   "metadata": {},
   "source": [
    "## Classification"
   ]
  },
  {
   "cell_type": "markdown",
   "metadata": {},
   "source": [
    "Now let’s switch gears. Previously, we tried to predict \"HOURLYWindSpeed\", but now we predict \"HOURLYWindDirection\". In order to turn this into a classification problem we discretize the value using the Bucketizer. The new feature is called \"HOURLYWindDirectionBucketized\" with values 0 or 1 meaning South or North wind."
   ]
  },
  {
   "cell_type": "code",
   "execution_count": 15,
   "metadata": {},
   "outputs": [],
   "source": [
    "from pyspark.ml.feature import Bucketizer, OneHotEncoder\n",
    "\n",
    "bucketizer = Bucketizer(splits=[ 0, 180, float('Inf') ],inputCol=\"HOURLYWindDirection\", outputCol=\"HOURLYWindDirectionBucketized\")\n",
    "encoder = OneHotEncoder(inputCol=\"HOURLYWindDirectionBucketized\", outputCol=\"HOURLYWindDirectionOHE\")"
   ]
  },
  {
   "cell_type": "markdown",
   "metadata": {},
   "source": [
    "Again, we define a function in order to assess how we perform. Here we just use the accuracy measure which gives us the fraction of correctly classified examples. 0 is bad, 1 is good."
   ]
  },
  {
   "cell_type": "code",
   "execution_count": 16,
   "metadata": {},
   "outputs": [],
   "source": [
    "from pyspark.ml.evaluation import MulticlassClassificationEvaluator\n",
    "def classification_metrics(prediction):\n",
    "    mcEval = MulticlassClassificationEvaluator().setMetricName(\"accuracy\") .setPredictionCol(\"prediction\").setLabelCol(\"HOURLYWindDirectionBucketized\")\n",
    "    accuracy = mcEval.evaluate(prediction)\n",
    "    print(\"Accuracy on test data = %g\" % accuracy)"
   ]
  },
  {
   "cell_type": "markdown",
   "metadata": {},
   "source": [
    "For baselining we use LogisticRegression."
   ]
  },
  {
   "cell_type": "code",
   "execution_count": 17,
   "metadata": {},
   "outputs": [
    {
     "name": "stdout",
     "output_type": "stream",
     "text": [
      "Accuracy on test data = 0.589226\n"
     ]
    }
   ],
   "source": [
    "#LogisticRegression\n",
    "\n",
    "from pyspark.ml.classification import LogisticRegression\n",
    "lr = LogisticRegression(labelCol=\"HOURLYWindDirectionBucketized\", maxIter=10)\n",
    "#,\"ELEVATION\",\"HOURLYStationPressure\",\"HOURLYPressureTendency\",\"HOURLYPrecip\"\n",
    "\n",
    "vectorAssembler = VectorAssembler(inputCols=[\"HOURLYWindSpeed\",\"HOURLYDRYBULBTEMPC\"],\n",
    "                                  outputCol=\"features\")\n",
    "\n",
    "pipeline = Pipeline(stages=[bucketizer,vectorAssembler,normalizer,lr])\n",
    "model = pipeline.fit(df_train)\n",
    "prediction = model.transform(df_test)\n",
    "classification_metrics(prediction)"
   ]
  },
  {
   "cell_type": "markdown",
   "metadata": {},
   "source": [
    "Let’s try some other Algorithms and see if model performance increases. It’s also important to tweak other parameters like parameters of individual algorithms (e.g. number of trees for RandomForest) or parameters in the feature engineering pipeline, e.g. train/test split ratio, normalization, bucketing, …"
   ]
  },
  {
   "cell_type": "code",
   "execution_count": 18,
   "metadata": {},
   "outputs": [
    {
     "name": "stdout",
     "output_type": "stream",
     "text": [
      "Accuracy on test data = 0.649832\n"
     ]
    }
   ],
   "source": [
    "#RandomForestClassifier\n",
    "\n",
    "from pyspark.ml.classification import RandomForestClassifier\n",
    "rf = RandomForestClassifier(labelCol=\"HOURLYWindDirectionBucketized\", numTrees=30)\n",
    "\n",
    "vectorAssembler = VectorAssembler(inputCols=[\"HOURLYWindSpeed\",\"HOURLYDRYBULBTEMPC\",\"ELEVATION\",\"HOURLYStationPressure\",\"HOURLYPressureTendency\",\"HOURLYPrecip\"],\n",
    "                                  outputCol=\"features\")\n",
    "\n",
    "pipeline = Pipeline(stages=[bucketizer,vectorAssembler,normalizer,rf])\n",
    "model = pipeline.fit(df_train)\n",
    "prediction = model.transform(df_test)\n",
    "classification_metrics(prediction)"
   ]
  },
  {
   "cell_type": "code",
   "execution_count": 19,
   "metadata": {},
   "outputs": [
    {
     "name": "stdout",
     "output_type": "stream",
     "text": [
      "Accuracy on test data = 0.612795\n"
     ]
    }
   ],
   "source": [
    "#GBTClassifier\n",
    "\n",
    "from pyspark.ml.classification import GBTClassifier\n",
    "gbt = GBTClassifier(labelCol=\"HOURLYWindDirectionBucketized\", maxIter=100)\n",
    "\n",
    "vectorAssembler = VectorAssembler(inputCols=[\"HOURLYWindSpeed\",\"HOURLYDRYBULBTEMPC\",\"ELEVATION\",\"HOURLYStationPressure\",\"HOURLYPressureTendency\",\"HOURLYPrecip\"],\n",
    "                                  outputCol=\"features\")\n",
    "\n",
    "pipeline = Pipeline(stages=[bucketizer,vectorAssembler,normalizer,gbt])\n",
    "model = pipeline.fit(df_train)\n",
    "prediction = model.transform(df_test)\n",
    "classification_metrics(prediction)"
   ]
  },
  {
   "cell_type": "code",
   "execution_count": 20,
   "metadata": {},
   "outputs": [
    {
     "name": "stdout",
     "output_type": "stream",
     "text": [
      "Accuracy on test data = 0.646465\n"
     ]
    }
   ],
   "source": [
    "#RandomForestClassifier (less trees)\n",
    "\n",
    "from pyspark.ml.classification import RandomForestClassifier\n",
    "rf = RandomForestClassifier(labelCol=\"HOURLYWindDirectionBucketized\", numTrees=10)\n",
    "\n",
    "vectorAssembler = VectorAssembler(inputCols=[\"HOURLYWindSpeed\",\"HOURLYDRYBULBTEMPC\",\"ELEVATION\",\"HOURLYStationPressure\",\"HOURLYPressureTendency\",\"HOURLYPrecip\"],\n",
    "                                  outputCol=\"features\")\n",
    "\n",
    "pipeline = Pipeline(stages=[bucketizer,vectorAssembler,normalizer,rf])\n",
    "model = pipeline.fit(df_train)\n",
    "prediction = model.transform(df_test)\n",
    "classification_metrics(prediction)"
   ]
  },
  {
   "cell_type": "code",
   "execution_count": null,
   "metadata": {},
   "outputs": [],
   "source": []
  },
  {
   "cell_type": "code",
   "execution_count": null,
   "metadata": {},
   "outputs": [],
   "source": []
  }
 ],
 "metadata": {
  "kernelspec": {
   "display_name": "Python 3",
   "language": "python",
   "name": "python3"
  },
  "language_info": {
   "codemirror_mode": {
    "name": "ipython",
    "version": 3
   },
   "file_extension": ".py",
   "mimetype": "text/x-python",
   "name": "python",
   "nbconvert_exporter": "python",
   "pygments_lexer": "ipython3",
   "version": "3.7.6"
  }
 },
 "nbformat": 4,
 "nbformat_minor": 4
}
